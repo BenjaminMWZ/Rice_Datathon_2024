{
 "cells": [
  {
   "cell_type": "code",
   "execution_count": 2,
   "metadata": {},
   "outputs": [],
   "source": [
    "import pandas as pd\n",
    "import math\n",
    "\n"
   ]
  },
  {
   "cell_type": "code",
   "execution_count": 5,
   "metadata": {},
   "outputs": [
    {
     "name": "stdout",
     "output_type": "stream",
     "text": [
      "   Unnamed: 0  game_date home_team away_team  is_day_game  home_score  \\\n",
      "0           0   20000329       NYN       CHN        False           3   \n",
      "1           1   20000330       CHN       NYN        False           1   \n",
      "2           2   20000403       ATL       COL         True           2   \n",
      "3           3   20000403       CIN       MIL         True           3   \n",
      "4           4   20000403       FLO       SFN        False           6   \n",
      "\n",
      "   away_score  venue        venue_name        city  ... home_hbp  away_pa  \\\n",
      "0           5  TOK01        Tokyo Dome       Tokyo  ...        1       38   \n",
      "1           5  TOK01        Tokyo Dome       Tokyo  ...        1       44   \n",
      "2           0  ATL02      Turner Field     Atlanta  ...        0       32   \n",
      "3           3  CIN08     Cinergy Field  Cincinnati  ...        0       20   \n",
      "4           4  MIA01  Sun Life Stadium       Miami  ...        0       38   \n",
      "\n",
      "   away_1b  away_2b  away_3b  away_hr  away_fo  away_so  away_bb  away_hbp  \n",
      "0        5        1        0        1       24        4        3         0  \n",
      "1        5        0        0        0       24        9        6         0  \n",
      "2        5        0        0        2       17        6        1         1  \n",
      "3        3        1        0        1       10        4        1         0  \n",
      "4        9        3        0        0       17        7        1         1  \n",
      "\n",
      "[5 rows x 29 columns]\n"
     ]
    }
   ],
   "source": [
    "# Replace 'your_file.csv' with the path to your CSV file\n",
    "file_path = './datathon_2024_dataset.csv'\n",
    "\n",
    "# Read the CSV file into a pandas DataFrame\n",
    "original_df = pd.read_csv(file_path)\n",
    "\n",
    "print(original_df.head())"
   ]
  },
  {
   "cell_type": "code",
   "execution_count": 20,
   "metadata": {},
   "outputs": [
    {
     "name": "stdout",
     "output_type": "stream",
     "text": [
      "         city  latitude  longitude\n",
      "0     Atlanta   33.7490   -84.3880\n",
      "1  Cincinnati   39.1031   -84.5120\n",
      "2       Miami   25.7617   -80.1918\n",
      "3    Montreal   45.5017   -73.5673\n",
      "4    New York   40.7128   -74.0060\n"
     ]
    }
   ],
   "source": [
    "location_file_path = './cities_coordinates.xlsx'\n",
    "location_df = pd.read_excel(location_file_path)\n",
    "print(location_df.head())"
   ]
  },
  {
   "cell_type": "code",
   "execution_count": 21,
   "metadata": {},
   "outputs": [
    {
     "name": "stdout",
     "output_type": "stream",
     "text": [
      "distance is：559.12 \n"
     ]
    }
   ],
   "source": [
    "# Calculat the distance between two points.\n",
    "\n",
    "def haversine(lat1, lon1, lat2, lon2):\n",
    "    # 将经纬度转换为弧度\n",
    "    lat1, lon1, lat2, lon2 = map(math.radians, [lat1, lon1, lat2, lon2])\n",
    "\n",
    "    # Haversine公式\n",
    "    dlat = lat2 - lat1\n",
    "    dlon = lon2 - lon1\n",
    "    a = math.sin(dlat / 2) ** 2 + math.cos(lat1) * math.cos(lat2) * math.sin(dlon / 2) ** 2\n",
    "    c = 2 * math.atan2(math.sqrt(a), math.sqrt(1 - a))\n",
    "\n",
    "    # 地球半径（单位：公里）\n",
    "    radius = 6371.0\n",
    "\n",
    "    # 计算距离\n",
    "    distance = radius * c\n",
    "\n",
    "    return distance\n",
    "\n",
    "# 示例：两个地点的经纬度\n",
    "lat1, lon1 = 37.7749, -122.4194  # 地点1（例如，旧金山）\n",
    "lat2, lon2 = 34.0522, -118.2437  # 地点2（例如，洛杉矶）\n",
    "\n",
    "# 计算距离\n",
    "result = haversine(lat1, lon1, lat2, lon2)\n",
    "print(f\"distance is：{result:.2f} \")\n"
   ]
  },
  {
   "cell_type": "code",
   "execution_count": 22,
   "metadata": {},
   "outputs": [
    {
     "name": "stdout",
     "output_type": "stream",
     "text": [
      "['Atlanta' 'Cincinnati' 'Miami' 'Montreal' 'New York' 'St. Louis'\n",
      " 'Anaheim' 'Baltimore' 'Minneapolis' 'Oakland' 'Arlington' 'Toronto'\n",
      " 'Phoenix' 'Pittsburgh' 'Seattle' 'Houston' 'Kansas City' 'St. Petersburg'\n",
      " 'Chicago' 'Denver' 'Milwaukee' 'Philadelphia' 'San Diego' 'San Francisco'\n",
      " 'Boston' 'Detroit' 'Los Angeles' 'Cleveland' 'Washington'\n",
      " 'Lake Buena Vista' 'Fort Bragg' 'Williamsport' 'Omaha' 'Buffalo'\n",
      " 'Dunedin' 'Dyersville']\n",
      "36\n"
     ]
    }
   ],
   "source": [
    "#print out all city names\n",
    "\n",
    "# Delelete all rows with city \"Tokyo\", \"London\", \"Sydney\",  \"San Juan\", \"Monterrey\"\n",
    "original_df = original_df[original_df['city'] != 'Tokyo']\n",
    "original_df = original_df[original_df['city'] != 'London']\n",
    "original_df = original_df[original_df['city'] != 'Sydney']\n",
    "original_df = original_df[original_df['city'] != 'San Juan']\n",
    "original_df = original_df[original_df['city'] != 'Monterrey']\n",
    "\n",
    "print(original_df['city'].unique())\n",
    "\n",
    "# Count the number of unique city\n",
    "print(original_df['city'].nunique())\n",
    "\n"
   ]
  },
  {
   "cell_type": "code",
   "execution_count": 26,
   "metadata": {},
   "outputs": [
    {
     "name": "stdout",
     "output_type": "stream",
     "text": [
      "       Unnamed: 0  game_date home_team away_team  is_day_game  home_score  \\\n",
      "0               2   20000403       ATL       COL         True           2   \n",
      "11692           8   20000403       ANA       NYA        False           2   \n",
      "13586           9   20000403       BAL       CLE         True           1   \n",
      "15476          10   20000403       MIN       TBA        False           0   \n",
      "6017            6   20000403       NYN       SDN         True           2   \n",
      "5656            5   20000403       MON       LAN        False           4   \n",
      "17369          11   20000403       OAK       DET        False           4   \n",
      "19257          12   20000403       TEX       CHA         True          10   \n",
      "21152          13   20000403       TOR       KCA         True           5   \n",
      "3781            4   20000403       FLO       SFN        False           6   \n",
      "1891            3   20000403       CIN       MIL         True           3   \n",
      "9802            7   20000403       SLN       CHN         True           7   \n",
      "21153          25   20000404       TOR       KCA        False           6   \n",
      "5657           18   20000404       MON       LAN        False           4   \n",
      "19258          24   20000404       TEX       CHA        False          12   \n",
      "22967          14   20000404       ARI       PHI        False           6   \n",
      "24858          19   20000404       PIT       HOU        False           2   \n",
      "1              15   20000404       ATL       COL        False           3   \n",
      "11693          20   20000404       ANA       NYA        False           3   \n",
      "1892           16   20000404       CIN       MIL        False           1   \n",
      "\n",
      "       away_score  venue                       venue_name         city  ...  \\\n",
      "0               0  ATL02                     Turner Field      Atlanta  ...   \n",
      "11692           3  ANA01         Angel Stadium of Anaheim      Anaheim  ...   \n",
      "13586           4  BAL12      Oriole Park at Camden Yards    Baltimore  ...   \n",
      "15476           7  MIN03     Hubert H. Humphrey Metrodome  Minneapolis  ...   \n",
      "6017            1  NYC17                     Shea Stadium     New York  ...   \n",
      "5656           10  MON02                  Stade Olympique     Montreal  ...   \n",
      "17369           7  OAK01  Oakland-Alameda County Coliseum      Oakland  ...   \n",
      "19257           4  ARL02    Rangers Ballpark in Arlington    Arlington  ...   \n",
      "21152           4  TOR02                    Rogers Centre      Toronto  ...   \n",
      "3781            4  MIA01                 Sun Life Stadium        Miami  ...   \n",
      "1891            3  CIN08                    Cinergy Field   Cincinnati  ...   \n",
      "9802            1  STL09                 Busch Stadium II    St. Louis  ...   \n",
      "21153           3  TOR02                    Rogers Centre      Toronto  ...   \n",
      "5657           10  MON02                  Stade Olympique     Montreal  ...   \n",
      "19258           8  ARL02    Rangers Ballpark in Arlington    Arlington  ...   \n",
      "22967           4  PHO01                      Chase Field      Phoenix  ...   \n",
      "24858           5  PIT07             Three Rivers Stadium   Pittsburgh  ...   \n",
      "1               5  ATL02                     Turner Field      Atlanta  ...   \n",
      "11693           5  ANA01         Angel Stadium of Anaheim      Anaheim  ...   \n",
      "1892            5  CIN08                    Cinergy Field   Cincinnati  ...   \n",
      "\n",
      "      away_1b  away_2b  away_3b  away_hr  away_fo  away_so  away_bb  away_hbp  \\\n",
      "0           5        0        0        2       17        6        1         1   \n",
      "11692       8        1        0        1       19        6        5         0   \n",
      "13586       4        2        0        0       16        8        7         0   \n",
      "15476       7        1        0        0       18        8        0         0   \n",
      "6017        2        1        0        1       16        7        2         1   \n",
      "5656        7        0        0        2       19        8        2         0   \n",
      "17369       0        0        0        4       18        9        3         0   \n",
      "19257       6        1        0        4       17        6        4         2   \n",
      "21152       3        1        0        4       20        5        0         0   \n",
      "3781        9        3        0        0       17        7        1         1   \n",
      "1891        3        1        0        1       10        4        1         0   \n",
      "9802        5        1        1        3       18        6        7         0   \n",
      "21153       2        3        0        2       20        4        4         2   \n",
      "5657        3        3        0        0       20        5        5         1   \n",
      "19258       7        3        0        2       15        9       10         0   \n",
      "22967       6        1        0        3       20        3        0         0   \n",
      "24858       5        0        0        1       21        5        3         1   \n",
      "1           3        2        0        1       23        4        4         1   \n",
      "11693      10        0        0        0       17        9        6         0   \n",
      "1892        2        1        0        1       22        5        1         0   \n",
      "\n",
      "       latitude  longitude  \n",
      "0       33.7490   -84.3880  \n",
      "11692   33.8366  -117.9143  \n",
      "13586   39.2904   -76.6122  \n",
      "15476   44.9778   -93.2650  \n",
      "6017    40.7128   -74.0060  \n",
      "5656    45.5017   -73.5673  \n",
      "17369   37.8044  -122.2712  \n",
      "19257   32.7357   -97.1081  \n",
      "21152   43.6532   -79.3832  \n",
      "3781    25.7617   -80.1918  \n",
      "1891    39.1031   -84.5120  \n",
      "9802    38.6270   -90.1994  \n",
      "21153   43.6532   -79.3832  \n",
      "5657    45.5017   -73.5673  \n",
      "19258   32.7357   -97.1081  \n",
      "22967   33.4484  -112.0740  \n",
      "24858   40.4406   -79.9959  \n",
      "1       33.7490   -84.3880  \n",
      "11693   33.8366  -117.9143  \n",
      "1892    39.1031   -84.5120  \n",
      "\n",
      "[20 rows x 31 columns]\n"
     ]
    }
   ],
   "source": [
    "import pandas as pd\n",
    "\n",
    "# Assuming df1 is the 30x3 table and df2 is the 5000xN table\n",
    "# Replace these with your actual DataFrames\n",
    "\n",
    "# Assuming both venue_name columns are of the same data type\n",
    "\n",
    "\n",
    "# Merge the two DataFrames based on 'venue_name'\n",
    "merged_df = pd.merge(original_df, location_df, on='city', how='inner')\n",
    "\n",
    "# 'inner' will keep only the rows where venue_name exists in both tables\n",
    "\n",
    "# Display the merged DataFrame\n",
    "\n",
    "# Sort merged_df by game_date\n",
    "merged_df = merged_df.sort_values(by='game_date')\n",
    "print(merged_df.head(20))\n",
    "\n"
   ]
  },
  {
   "cell_type": "code",
   "execution_count": 31,
   "metadata": {},
   "outputs": [
    {
     "ename": "SyntaxError",
     "evalue": "EOL while scanning string literal (2604890319.py, line 12)",
     "output_type": "error",
     "traceback": [
      "\u001b[0;36m  Input \u001b[0;32mIn [31]\u001b[0;36m\u001b[0m\n\u001b[0;31m    if row['home_team'] == merged_df.loc[index - 1, 'hometeam'] or row['away_team'] == merged_df.loc[index - 1, 'awayteam:\u001b[0m\n\u001b[0m                                                                                                                          ^\u001b[0m\n\u001b[0;31mSyntaxError\u001b[0m\u001b[0;31m:\u001b[0m EOL while scanning string literal\n"
     ]
    }
   ],
   "source": [
    "# Add two columns: \"team name: distance\". \n",
    "# The distance is calculated by the distance between this row and the previous row with the same team name(either home or away team). If there is no row above with the same team name, the distance is 0.\n",
    "\n",
    "# Create a new column 'distance' and set it to 0\n",
    "merged_df['distance'] = 0\n",
    "\n",
    "# Iterate through each row in the DataFrame\n",
    "for index, row in merged_df.iterrows():\n",
    "    # If this is not the first row\n",
    "    if index > 0:\n",
    "        # If the current row's team name is the same as the previous row's team name\n",
    "        if row['home_team'] == merged_df.loc[index - 1, 'hometeam'] or row[''] == merged_df.loc[index - 1, 'awayteam']:\n",
    "            # Calculate the distance between the two rows\n",
    "            distance = haversine(row['latitude'], row['longitude'], merged_df.loc[index - 1, 'latitude'], merged_df.loc[index - 1, 'longitude'])\n",
    "            # Set the current row's distance to the calculated distance\n",
    "            merged_df.loc[index, 'distance'] = distance\n",
    "\n",
    "# Display the DataFrame\n",
    "print(merged_df.head(20))\n",
    "\n",
    "\n"
   ]
  },
  {
   "cell_type": "code",
   "execution_count": 29,
   "metadata": {},
   "outputs": [
    {
     "ename": "KeyError",
     "evalue": "-1",
     "output_type": "error",
     "traceback": [
      "\u001b[0;31m---------------------------------------------------------------------------\u001b[0m",
      "\u001b[0;31mKeyError\u001b[0m                                  Traceback (most recent call last)",
      "File \u001b[0;32m~/opt/anaconda3/lib/python3.9/site-packages/pandas/core/indexes/base.py:3621\u001b[0m, in \u001b[0;36mIndex.get_loc\u001b[0;34m(self, key, method, tolerance)\u001b[0m\n\u001b[1;32m   3620\u001b[0m \u001b[38;5;28;01mtry\u001b[39;00m:\n\u001b[0;32m-> 3621\u001b[0m     \u001b[38;5;28;01mreturn\u001b[39;00m \u001b[38;5;28;43mself\u001b[39;49m\u001b[38;5;241;43m.\u001b[39;49m\u001b[43m_engine\u001b[49m\u001b[38;5;241;43m.\u001b[39;49m\u001b[43mget_loc\u001b[49m\u001b[43m(\u001b[49m\u001b[43mcasted_key\u001b[49m\u001b[43m)\u001b[49m\n\u001b[1;32m   3622\u001b[0m \u001b[38;5;28;01mexcept\u001b[39;00m \u001b[38;5;167;01mKeyError\u001b[39;00m \u001b[38;5;28;01mas\u001b[39;00m err:\n",
      "File \u001b[0;32m~/opt/anaconda3/lib/python3.9/site-packages/pandas/_libs/index.pyx:136\u001b[0m, in \u001b[0;36mpandas._libs.index.IndexEngine.get_loc\u001b[0;34m()\u001b[0m\n",
      "File \u001b[0;32m~/opt/anaconda3/lib/python3.9/site-packages/pandas/_libs/index.pyx:163\u001b[0m, in \u001b[0;36mpandas._libs.index.IndexEngine.get_loc\u001b[0;34m()\u001b[0m\n",
      "File \u001b[0;32mpandas/_libs/hashtable_class_helper.pxi:2131\u001b[0m, in \u001b[0;36mpandas._libs.hashtable.Int64HashTable.get_item\u001b[0;34m()\u001b[0m\n",
      "File \u001b[0;32mpandas/_libs/hashtable_class_helper.pxi:2140\u001b[0m, in \u001b[0;36mpandas._libs.hashtable.Int64HashTable.get_item\u001b[0;34m()\u001b[0m\n",
      "\u001b[0;31mKeyError\u001b[0m: -1",
      "\nThe above exception was the direct cause of the following exception:\n",
      "\u001b[0;31mKeyError\u001b[0m                                  Traceback (most recent call last)",
      "Input \u001b[0;32mIn [29]\u001b[0m, in \u001b[0;36m<cell line: 2>\u001b[0;34m()\u001b[0m\n\u001b[1;32m      4\u001b[0m current_lat, current_lon \u001b[38;5;241m=\u001b[39m row[\u001b[38;5;124m'\u001b[39m\u001b[38;5;124mlatitude\u001b[39m\u001b[38;5;124m'\u001b[39m], row[\u001b[38;5;124m'\u001b[39m\u001b[38;5;124mlongitude\u001b[39m\u001b[38;5;124m'\u001b[39m]\n\u001b[1;32m      6\u001b[0m \u001b[38;5;66;03m# Find the downmost row above with the same team name\u001b[39;00m\n\u001b[0;32m----> 7\u001b[0m previous_rows \u001b[38;5;241m=\u001b[39m \u001b[43mmerged_df\u001b[49m\u001b[38;5;241;43m.\u001b[39;49m\u001b[43mloc\u001b[49m\u001b[43m[\u001b[49m\u001b[43m:\u001b[49m\u001b[43mindex\u001b[49m\u001b[43m \u001b[49m\u001b[38;5;241;43m-\u001b[39;49m\u001b[43m \u001b[49m\u001b[38;5;241;43m1\u001b[39;49m\u001b[43m]\u001b[49m\n\u001b[1;32m      8\u001b[0m previous_row_same_team \u001b[38;5;241m=\u001b[39m previous_rows[previous_rows[\u001b[38;5;124m'\u001b[39m\u001b[38;5;124mhome_team\u001b[39m\u001b[38;5;124m'\u001b[39m] \u001b[38;5;241m==\u001b[39m team_name]\u001b[38;5;241m.\u001b[39miloc[\u001b[38;5;241m-\u001b[39m\u001b[38;5;241m1\u001b[39m]\n\u001b[1;32m     10\u001b[0m \u001b[38;5;28;01mif\u001b[39;00m \u001b[38;5;129;01mnot\u001b[39;00m previous_row_same_team\u001b[38;5;241m.\u001b[39mempty:\n\u001b[1;32m     11\u001b[0m     \u001b[38;5;66;03m# Calculate distance using your distance calculation function\u001b[39;00m\n",
      "File \u001b[0;32m~/opt/anaconda3/lib/python3.9/site-packages/pandas/core/indexing.py:967\u001b[0m, in \u001b[0;36m_LocationIndexer.__getitem__\u001b[0;34m(self, key)\u001b[0m\n\u001b[1;32m    964\u001b[0m axis \u001b[38;5;241m=\u001b[39m \u001b[38;5;28mself\u001b[39m\u001b[38;5;241m.\u001b[39maxis \u001b[38;5;129;01mor\u001b[39;00m \u001b[38;5;241m0\u001b[39m\n\u001b[1;32m    966\u001b[0m maybe_callable \u001b[38;5;241m=\u001b[39m com\u001b[38;5;241m.\u001b[39mapply_if_callable(key, \u001b[38;5;28mself\u001b[39m\u001b[38;5;241m.\u001b[39mobj)\n\u001b[0;32m--> 967\u001b[0m \u001b[38;5;28;01mreturn\u001b[39;00m \u001b[38;5;28;43mself\u001b[39;49m\u001b[38;5;241;43m.\u001b[39;49m\u001b[43m_getitem_axis\u001b[49m\u001b[43m(\u001b[49m\u001b[43mmaybe_callable\u001b[49m\u001b[43m,\u001b[49m\u001b[43m \u001b[49m\u001b[43maxis\u001b[49m\u001b[38;5;241;43m=\u001b[39;49m\u001b[43maxis\u001b[49m\u001b[43m)\u001b[49m\n",
      "File \u001b[0;32m~/opt/anaconda3/lib/python3.9/site-packages/pandas/core/indexing.py:1180\u001b[0m, in \u001b[0;36m_LocIndexer._getitem_axis\u001b[0;34m(self, key, axis)\u001b[0m\n\u001b[1;32m   1178\u001b[0m \u001b[38;5;28;01mif\u001b[39;00m \u001b[38;5;28misinstance\u001b[39m(key, \u001b[38;5;28mslice\u001b[39m):\n\u001b[1;32m   1179\u001b[0m     \u001b[38;5;28mself\u001b[39m\u001b[38;5;241m.\u001b[39m_validate_key(key, axis)\n\u001b[0;32m-> 1180\u001b[0m     \u001b[38;5;28;01mreturn\u001b[39;00m \u001b[38;5;28;43mself\u001b[39;49m\u001b[38;5;241;43m.\u001b[39;49m\u001b[43m_get_slice_axis\u001b[49m\u001b[43m(\u001b[49m\u001b[43mkey\u001b[49m\u001b[43m,\u001b[49m\u001b[43m \u001b[49m\u001b[43maxis\u001b[49m\u001b[38;5;241;43m=\u001b[39;49m\u001b[43maxis\u001b[49m\u001b[43m)\u001b[49m\n\u001b[1;32m   1181\u001b[0m \u001b[38;5;28;01melif\u001b[39;00m com\u001b[38;5;241m.\u001b[39mis_bool_indexer(key):\n\u001b[1;32m   1182\u001b[0m     \u001b[38;5;28;01mreturn\u001b[39;00m \u001b[38;5;28mself\u001b[39m\u001b[38;5;241m.\u001b[39m_getbool_axis(key, axis\u001b[38;5;241m=\u001b[39maxis)\n",
      "File \u001b[0;32m~/opt/anaconda3/lib/python3.9/site-packages/pandas/core/indexing.py:1214\u001b[0m, in \u001b[0;36m_LocIndexer._get_slice_axis\u001b[0;34m(self, slice_obj, axis)\u001b[0m\n\u001b[1;32m   1211\u001b[0m     \u001b[38;5;28;01mreturn\u001b[39;00m obj\u001b[38;5;241m.\u001b[39mcopy(deep\u001b[38;5;241m=\u001b[39m\u001b[38;5;28;01mFalse\u001b[39;00m)\n\u001b[1;32m   1213\u001b[0m labels \u001b[38;5;241m=\u001b[39m obj\u001b[38;5;241m.\u001b[39m_get_axis(axis)\n\u001b[0;32m-> 1214\u001b[0m indexer \u001b[38;5;241m=\u001b[39m \u001b[43mlabels\u001b[49m\u001b[38;5;241;43m.\u001b[39;49m\u001b[43mslice_indexer\u001b[49m\u001b[43m(\u001b[49m\u001b[43mslice_obj\u001b[49m\u001b[38;5;241;43m.\u001b[39;49m\u001b[43mstart\u001b[49m\u001b[43m,\u001b[49m\u001b[43m \u001b[49m\u001b[43mslice_obj\u001b[49m\u001b[38;5;241;43m.\u001b[39;49m\u001b[43mstop\u001b[49m\u001b[43m,\u001b[49m\u001b[43m \u001b[49m\u001b[43mslice_obj\u001b[49m\u001b[38;5;241;43m.\u001b[39;49m\u001b[43mstep\u001b[49m\u001b[43m)\u001b[49m\n\u001b[1;32m   1216\u001b[0m \u001b[38;5;28;01mif\u001b[39;00m \u001b[38;5;28misinstance\u001b[39m(indexer, \u001b[38;5;28mslice\u001b[39m):\n\u001b[1;32m   1217\u001b[0m     \u001b[38;5;28;01mreturn\u001b[39;00m \u001b[38;5;28mself\u001b[39m\u001b[38;5;241m.\u001b[39mobj\u001b[38;5;241m.\u001b[39m_slice(indexer, axis\u001b[38;5;241m=\u001b[39maxis)\n",
      "File \u001b[0;32m~/opt/anaconda3/lib/python3.9/site-packages/pandas/core/indexes/base.py:6274\u001b[0m, in \u001b[0;36mIndex.slice_indexer\u001b[0;34m(self, start, end, step, kind)\u001b[0m\n\u001b[1;32m   6231\u001b[0m \u001b[38;5;124;03m\"\"\"\u001b[39;00m\n\u001b[1;32m   6232\u001b[0m \u001b[38;5;124;03mCompute the slice indexer for input labels and step.\u001b[39;00m\n\u001b[1;32m   6233\u001b[0m \n\u001b[0;32m   (...)\u001b[0m\n\u001b[1;32m   6270\u001b[0m \u001b[38;5;124;03mslice(1, 3, None)\u001b[39;00m\n\u001b[1;32m   6271\u001b[0m \u001b[38;5;124;03m\"\"\"\u001b[39;00m\n\u001b[1;32m   6272\u001b[0m \u001b[38;5;28mself\u001b[39m\u001b[38;5;241m.\u001b[39m_deprecated_arg(kind, \u001b[38;5;124m\"\u001b[39m\u001b[38;5;124mkind\u001b[39m\u001b[38;5;124m\"\u001b[39m, \u001b[38;5;124m\"\u001b[39m\u001b[38;5;124mslice_indexer\u001b[39m\u001b[38;5;124m\"\u001b[39m)\n\u001b[0;32m-> 6274\u001b[0m start_slice, end_slice \u001b[38;5;241m=\u001b[39m \u001b[38;5;28;43mself\u001b[39;49m\u001b[38;5;241;43m.\u001b[39;49m\u001b[43mslice_locs\u001b[49m\u001b[43m(\u001b[49m\u001b[43mstart\u001b[49m\u001b[43m,\u001b[49m\u001b[43m \u001b[49m\u001b[43mend\u001b[49m\u001b[43m,\u001b[49m\u001b[43m \u001b[49m\u001b[43mstep\u001b[49m\u001b[38;5;241;43m=\u001b[39;49m\u001b[43mstep\u001b[49m\u001b[43m)\u001b[49m\n\u001b[1;32m   6276\u001b[0m \u001b[38;5;66;03m# return a slice\u001b[39;00m\n\u001b[1;32m   6277\u001b[0m \u001b[38;5;28;01mif\u001b[39;00m \u001b[38;5;129;01mnot\u001b[39;00m is_scalar(start_slice):\n",
      "File \u001b[0;32m~/opt/anaconda3/lib/python3.9/site-packages/pandas/core/indexes/base.py:6490\u001b[0m, in \u001b[0;36mIndex.slice_locs\u001b[0;34m(self, start, end, step, kind)\u001b[0m\n\u001b[1;32m   6488\u001b[0m end_slice \u001b[38;5;241m=\u001b[39m \u001b[38;5;28;01mNone\u001b[39;00m\n\u001b[1;32m   6489\u001b[0m \u001b[38;5;28;01mif\u001b[39;00m end \u001b[38;5;129;01mis\u001b[39;00m \u001b[38;5;129;01mnot\u001b[39;00m \u001b[38;5;28;01mNone\u001b[39;00m:\n\u001b[0;32m-> 6490\u001b[0m     end_slice \u001b[38;5;241m=\u001b[39m \u001b[38;5;28;43mself\u001b[39;49m\u001b[38;5;241;43m.\u001b[39;49m\u001b[43mget_slice_bound\u001b[49m\u001b[43m(\u001b[49m\u001b[43mend\u001b[49m\u001b[43m,\u001b[49m\u001b[43m \u001b[49m\u001b[38;5;124;43m\"\u001b[39;49m\u001b[38;5;124;43mright\u001b[39;49m\u001b[38;5;124;43m\"\u001b[39;49m\u001b[43m)\u001b[49m\n\u001b[1;32m   6491\u001b[0m \u001b[38;5;28;01mif\u001b[39;00m end_slice \u001b[38;5;129;01mis\u001b[39;00m \u001b[38;5;28;01mNone\u001b[39;00m:\n\u001b[1;32m   6492\u001b[0m     end_slice \u001b[38;5;241m=\u001b[39m \u001b[38;5;28mlen\u001b[39m(\u001b[38;5;28mself\u001b[39m)\n",
      "File \u001b[0;32m~/opt/anaconda3/lib/python3.9/site-packages/pandas/core/indexes/base.py:6403\u001b[0m, in \u001b[0;36mIndex.get_slice_bound\u001b[0;34m(self, label, side, kind)\u001b[0m\n\u001b[1;32m   6400\u001b[0m         \u001b[38;5;28;01mreturn\u001b[39;00m \u001b[38;5;28mself\u001b[39m\u001b[38;5;241m.\u001b[39m_searchsorted_monotonic(label, side)\n\u001b[1;32m   6401\u001b[0m     \u001b[38;5;28;01mexcept\u001b[39;00m \u001b[38;5;167;01mValueError\u001b[39;00m:\n\u001b[1;32m   6402\u001b[0m         \u001b[38;5;66;03m# raise the original KeyError\u001b[39;00m\n\u001b[0;32m-> 6403\u001b[0m         \u001b[38;5;28;01mraise\u001b[39;00m err\n\u001b[1;32m   6405\u001b[0m \u001b[38;5;28;01mif\u001b[39;00m \u001b[38;5;28misinstance\u001b[39m(slc, np\u001b[38;5;241m.\u001b[39mndarray):\n\u001b[1;32m   6406\u001b[0m     \u001b[38;5;66;03m# get_loc may return a boolean array, which\u001b[39;00m\n\u001b[1;32m   6407\u001b[0m     \u001b[38;5;66;03m# is OK as long as they are representable by a slice.\u001b[39;00m\n\u001b[1;32m   6408\u001b[0m     \u001b[38;5;28;01massert\u001b[39;00m is_bool_dtype(slc\u001b[38;5;241m.\u001b[39mdtype)\n",
      "File \u001b[0;32m~/opt/anaconda3/lib/python3.9/site-packages/pandas/core/indexes/base.py:6397\u001b[0m, in \u001b[0;36mIndex.get_slice_bound\u001b[0;34m(self, label, side, kind)\u001b[0m\n\u001b[1;32m   6395\u001b[0m \u001b[38;5;66;03m# we need to look up the label\u001b[39;00m\n\u001b[1;32m   6396\u001b[0m \u001b[38;5;28;01mtry\u001b[39;00m:\n\u001b[0;32m-> 6397\u001b[0m     slc \u001b[38;5;241m=\u001b[39m \u001b[38;5;28;43mself\u001b[39;49m\u001b[38;5;241;43m.\u001b[39;49m\u001b[43mget_loc\u001b[49m\u001b[43m(\u001b[49m\u001b[43mlabel\u001b[49m\u001b[43m)\u001b[49m\n\u001b[1;32m   6398\u001b[0m \u001b[38;5;28;01mexcept\u001b[39;00m \u001b[38;5;167;01mKeyError\u001b[39;00m \u001b[38;5;28;01mas\u001b[39;00m err:\n\u001b[1;32m   6399\u001b[0m     \u001b[38;5;28;01mtry\u001b[39;00m:\n",
      "File \u001b[0;32m~/opt/anaconda3/lib/python3.9/site-packages/pandas/core/indexes/base.py:3623\u001b[0m, in \u001b[0;36mIndex.get_loc\u001b[0;34m(self, key, method, tolerance)\u001b[0m\n\u001b[1;32m   3621\u001b[0m     \u001b[38;5;28;01mreturn\u001b[39;00m \u001b[38;5;28mself\u001b[39m\u001b[38;5;241m.\u001b[39m_engine\u001b[38;5;241m.\u001b[39mget_loc(casted_key)\n\u001b[1;32m   3622\u001b[0m \u001b[38;5;28;01mexcept\u001b[39;00m \u001b[38;5;167;01mKeyError\u001b[39;00m \u001b[38;5;28;01mas\u001b[39;00m err:\n\u001b[0;32m-> 3623\u001b[0m     \u001b[38;5;28;01mraise\u001b[39;00m \u001b[38;5;167;01mKeyError\u001b[39;00m(key) \u001b[38;5;28;01mfrom\u001b[39;00m \u001b[38;5;21;01merr\u001b[39;00m\n\u001b[1;32m   3624\u001b[0m \u001b[38;5;28;01mexcept\u001b[39;00m \u001b[38;5;167;01mTypeError\u001b[39;00m:\n\u001b[1;32m   3625\u001b[0m     \u001b[38;5;66;03m# If we have a listlike key, _check_indexing_error will raise\u001b[39;00m\n\u001b[1;32m   3626\u001b[0m     \u001b[38;5;66;03m#  InvalidIndexError. Otherwise we fall through and re-raise\u001b[39;00m\n\u001b[1;32m   3627\u001b[0m     \u001b[38;5;66;03m#  the TypeError.\u001b[39;00m\n\u001b[1;32m   3628\u001b[0m     \u001b[38;5;28mself\u001b[39m\u001b[38;5;241m.\u001b[39m_check_indexing_error(key)\n",
      "\u001b[0;31mKeyError\u001b[0m: -1"
     ]
    }
   ],
   "source": [
    "# Iterate through the DataFrame to calculate distances\n",
    "for index, row in merged_df.iterrows():\n",
    "    team_name = row['home_team']  # Assuming you want to consider the home_team for distance calculation\n",
    "    current_lat, current_lon = row['latitude'], row['longitude']\n",
    "\n",
    "    # Find the downmost row above with the same team name\n",
    "    previous_rows = merged_df.loc[:index - 1]\n",
    "    previous_row_same_team = previous_rows[previous_rows['home_team'] == team_name].iloc[-1]\n",
    "\n",
    "    if not previous_row_same_team.empty:\n",
    "        # Calculate distance using your distance calculation function\n",
    "        distance = haversine(current_lat, current_lon,\n",
    "                                       previous_row_same_team['latitude'], previous_row_same_team['longitude'])\n",
    "        merged_df.at[index, 'distance'] = distance\n",
    "\n",
    "# Display the DataFrame with the new \"distance\" column\n",
    "print(merged_df)"
   ]
  }
 ],
 "metadata": {
  "kernelspec": {
   "display_name": "Python 3",
   "language": "python",
   "name": "python3"
  },
  "language_info": {
   "codemirror_mode": {
    "name": "ipython",
    "version": 3
   },
   "file_extension": ".py",
   "mimetype": "text/x-python",
   "name": "python",
   "nbconvert_exporter": "python",
   "pygments_lexer": "ipython3",
   "version": "3.9.12"
  }
 },
 "nbformat": 4,
 "nbformat_minor": 2
}
