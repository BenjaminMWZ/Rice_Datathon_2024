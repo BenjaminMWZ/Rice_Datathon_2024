{
 "cells": [
  {
   "cell_type": "code",
   "execution_count": 2,
   "metadata": {},
   "outputs": [],
   "source": [
    "import pandas as pd\n",
    "\n"
   ]
  },
  {
   "cell_type": "code",
   "execution_count": 3,
   "metadata": {},
   "outputs": [
    {
     "name": "stdout",
     "output_type": "stream",
     "text": [
      "   Unnamed: 0  game_date home_team away_team  is_day_game  home_score  \\\n",
      "0           0   20000329       NYN       CHN        False           3   \n",
      "1           1   20000330       CHN       NYN        False           1   \n",
      "2           2   20000403       ATL       COL         True           2   \n",
      "3           3   20000403       CIN       MIL         True           3   \n",
      "4           4   20000403       FLO       SFN        False           6   \n",
      "\n",
      "   away_score  venue        venue_name        city  ... home_hbp  away_pa  \\\n",
      "0           5  TOK01        Tokyo Dome       Tokyo  ...        1       38   \n",
      "1           5  TOK01        Tokyo Dome       Tokyo  ...        1       44   \n",
      "2           0  ATL02      Turner Field     Atlanta  ...        0       32   \n",
      "3           3  CIN08     Cinergy Field  Cincinnati  ...        0       20   \n",
      "4           4  MIA01  Sun Life Stadium       Miami  ...        0       38   \n",
      "\n",
      "   away_1b  away_2b  away_3b  away_hr  away_fo  away_so  away_bb  away_hbp  \n",
      "0        5        1        0        1       24        4        3         0  \n",
      "1        5        0        0        0       24        9        6         0  \n",
      "2        5        0        0        2       17        6        1         1  \n",
      "3        3        1        0        1       10        4        1         0  \n",
      "4        9        3        0        0       17        7        1         1  \n",
      "\n",
      "[5 rows x 29 columns]\n"
     ]
    }
   ],
   "source": [
    "# Replace 'your_file.csv' with the path to your CSV file\n",
    "file_path = './datathon_2024_dataset.csv'\n",
    "\n",
    "# Read the CSV file into a pandas DataFrame\n",
    "df = pd.read_csv(file_path)\n",
    "\n",
    "print(df.head())"
   ]
  }
 ],
 "metadata": {
  "kernelspec": {
   "display_name": "Python 3",
   "language": "python",
   "name": "python3"
  },
  "language_info": {
   "codemirror_mode": {
    "name": "ipython",
    "version": 3
   },
   "file_extension": ".py",
   "mimetype": "text/x-python",
   "name": "python",
   "nbconvert_exporter": "python",
   "pygments_lexer": "ipython3",
   "version": "3.9.12"
  }
 },
 "nbformat": 4,
 "nbformat_minor": 2
}
