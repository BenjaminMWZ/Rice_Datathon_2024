{
 "cells": [
  {
   "cell_type": "code",
   "execution_count": 1,
   "metadata": {},
   "outputs": [],
   "source": [
    "import pandas as pd\n",
    "import math"
   ]
  },
  {
   "cell_type": "markdown",
   "metadata": {},
   "source": [
    "Read original file"
   ]
  },
  {
   "cell_type": "code",
   "execution_count": 2,
   "metadata": {},
   "outputs": [
    {
     "name": "stdout",
     "output_type": "stream",
     "text": [
      "    Unnamed: 0  game_date home_team away_team  is_day_game  home_score  \\\n",
      "19          19   20000404       PIT       HOU        False           2   \n",
      "32          32   20000405       PIT       HOU        False           2   \n",
      "46          46   20000406       PIT       HOU         True          10   \n",
      "57          57   20000407       HOU       PHI        False           1   \n",
      "72          72   20000408       HOU       PHI         True           8   \n",
      "\n",
      "    away_score  venue            venue_name        city  ... away_hbp  \\\n",
      "19           5  PIT07  Three Rivers Stadium  Pittsburgh  ...        0   \n",
      "32          11  PIT07  Three Rivers Stadium  Pittsburgh  ...        0   \n",
      "46           1  PIT07  Three Rivers Stadium  Pittsburgh  ...        0   \n",
      "57           4  HOU03      Minute Maid Park     Houston  ...        0   \n",
      "72           5  HOU03      Minute Maid Park     Houston  ...        1   \n",
      "\n",
      "    home_pa  home_1b  home_2b  home_3b  home_hr  home_fo  home_so  home_bb  \\\n",
      "19       36        5        0        0        1       21        5        3   \n",
      "32       38        7        2        0        0       24        2        3   \n",
      "46       44        9        4        1        2       15        9        4   \n",
      "57       32        4        0        0        1       20        5        2   \n",
      "72       38        6        1        2        2       19        5        3   \n",
      "\n",
      "    home_hbp  \n",
      "19         1  \n",
      "32         0  \n",
      "46         0  \n",
      "57         0  \n",
      "72         0  \n",
      "\n",
      "[5 rows x 29 columns]\n"
     ]
    }
   ],
   "source": [
    "# Replace 'your_file.csv' with the path to your CSV file\n",
    "file_path = './datathon_2024_dataset_corrected.csv'\n",
    "\n",
    "\n",
    "# Read the CSV file into a pandas DataFrame\n",
    "original_df = pd.read_csv(file_path)\n",
    "\n",
    "# Only keep home_team or away_team equals HOU\n",
    "astro_df = original_df.loc[(original_df['home_team'] == 'HOU') | (original_df['away_team'] == 'HOU')]\n",
    "\n",
    "print(astro_df.head())"
   ]
  },
  {
   "cell_type": "markdown",
   "metadata": {},
   "source": [
    "Read location file"
   ]
  },
  {
   "cell_type": "code",
   "execution_count": 3,
   "metadata": {},
   "outputs": [
    {
     "name": "stdout",
     "output_type": "stream",
     "text": [
      "         city  latitude  longitude\n",
      "0     Atlanta   33.7490   -84.3880\n",
      "1  Cincinnati   39.1031   -84.5120\n",
      "2       Miami   25.7617   -80.1918\n",
      "3    Montreal   45.5017   -73.5673\n",
      "4    New York   40.7128   -74.0060\n"
     ]
    }
   ],
   "source": [
    "location_file_path = './cities_coordinates.xlsx'\n",
    "location_df = pd.read_excel(location_file_path)\n",
    "print(location_df.head())"
   ]
  },
  {
   "cell_type": "markdown",
   "metadata": {},
   "source": [
    "Function to calculate the distance with latitudes and longitudes."
   ]
  },
  {
   "cell_type": "code",
   "execution_count": 4,
   "metadata": {},
   "outputs": [
    {
     "name": "stdout",
     "output_type": "stream",
     "text": [
      "distance is：559.12 \n"
     ]
    }
   ],
   "source": [
    "# Calculate the distance between two points.\n",
    "\n",
    "def haversine(lat1, lon1, lat2, lon2):\n",
    "    # 将经纬度转换为弧度\n",
    "    lat1, lon1, lat2, lon2 = map(math.radians, [lat1, lon1, lat2, lon2])\n",
    "\n",
    "    # Haversine公式\n",
    "    dlat = lat2 - lat1\n",
    "    dlon = lon2 - lon1\n",
    "    a = math.sin(dlat / 2) ** 2 + math.cos(lat1) * math.cos(lat2) * math.sin(dlon / 2) ** 2\n",
    "    c = 2 * math.atan2(math.sqrt(a), math.sqrt(1 - a))\n",
    "\n",
    "    # 地球半径（单位：公里）\n",
    "    radius = 6371.0\n",
    "\n",
    "    # 计算距离\n",
    "    distance = radius * c\n",
    "\n",
    "    return distance\n",
    "\n",
    "# 示例：两个地点的经纬度\n",
    "lat1, lon1 = 37.7749, -122.4194  # 地点1（例如，旧金山）\n",
    "lat2, lon2 = 34.0522, -118.2437  # 地点2（例如，洛杉矶）\n",
    "\n",
    "# 计算距离\n",
    "result = haversine(lat1, lon1, lat2, lon2)\n",
    "print(f\"distance is：{result:.2f} \")\n"
   ]
  },
  {
   "cell_type": "markdown",
   "metadata": {},
   "source": [
    "Delete outlier cities."
   ]
  },
  {
   "cell_type": "code",
   "execution_count": 5,
   "metadata": {},
   "outputs": [],
   "source": [
    "#print out all city names\n",
    "\n",
    "# Delelete all rows with city \"Tokyo\", \"London\", \"Sydney\",  \"San Juan\", \"Monterrey\"\n",
    "astro_df = astro_df[astro_df['city'] != 'Tokyo']\n",
    "astro_df = astro_df[astro_df['city'] != 'London']\n",
    "astro_df = astro_df[astro_df['city'] != 'Sydney']\n",
    "astro_df = astro_df[astro_df['city'] != 'San Juan']\n",
    "astro_df = astro_df[astro_df['city'] != 'Monterrey']\n",
    "\n",
    "# print(original_df['city'].unique())\n",
    "\n",
    "# Count the number of unique city\n",
    "# print(original_df['city'].nunique())\n",
    "\n"
   ]
  },
  {
   "cell_type": "markdown",
   "metadata": {},
   "source": [
    "Add location to original file."
   ]
  },
  {
   "cell_type": "code",
   "execution_count": 6,
   "metadata": {},
   "outputs": [
    {
     "name": "stdout",
     "output_type": "stream",
     "text": [
      "      Unnamed: 0  game_date home_team away_team  is_day_game  home_score  \\\n",
      "0             19   20000404       PIT       HOU        False           2   \n",
      "1             32   20000405       PIT       HOU        False           2   \n",
      "2             46   20000406       PIT       HOU         True          10   \n",
      "114           57   20000407       HOU       PHI        False           1   \n",
      "115           72   20000408       HOU       PHI         True           8   \n",
      "116           87   20000409       HOU       PHI         True           2   \n",
      "117           99   20000410       HOU       SLN        False           7   \n",
      "118          107   20000411       HOU       SLN        False           6   \n",
      "119          119   20000412       HOU       SLN        False           7   \n",
      "1999         150   20000414       SDN       HOU        False           4   \n",
      "2000         163   20000415       SDN       HOU        False           5   \n",
      "2001         179   20000416       SDN       HOU         True          13   \n",
      "2055         196   20000418       LAN       HOU        False           5   \n",
      "2056         210   20000419       LAN       HOU        False           3   \n",
      "120          236   20000421       HOU       SDN        False           2   \n",
      "121          249   20000422       HOU       SDN         True           6   \n",
      "122          264   20000423       HOU       SDN         True          10   \n",
      "123          284   20000425       HOU       CHN        False          11   \n",
      "124          299   20000426       HOU       CHN        False           8   \n",
      "125          313   20000427       HOU       CHN         True           3   \n",
      "\n",
      "      away_score  venue            venue_name         city  ... home_1b  \\\n",
      "0              5  PIT07  Three Rivers Stadium   Pittsburgh  ...       5   \n",
      "1             11  PIT07  Three Rivers Stadium   Pittsburgh  ...       7   \n",
      "2              1  PIT07  Three Rivers Stadium   Pittsburgh  ...       9   \n",
      "114            4  HOU03      Minute Maid Park      Houston  ...       4   \n",
      "115            5  HOU03      Minute Maid Park      Houston  ...       6   \n",
      "116            3  HOU03      Minute Maid Park      Houston  ...       4   \n",
      "117            8  HOU03      Minute Maid Park      Houston  ...       2   \n",
      "118           10  HOU03      Minute Maid Park      Houston  ...       4   \n",
      "119            5  HOU03      Minute Maid Park      Houston  ...       3   \n",
      "1999          10  SAN01      Qualcomm Stadium    San Diego  ...       9   \n",
      "2000           3  SAN01      Qualcomm Stadium    San Diego  ...       5   \n",
      "2001           3  SAN01      Qualcomm Stadium    San Diego  ...      15   \n",
      "2055           3  LOS03        Dodger Stadium  Los Angeles  ...       3   \n",
      "2056          10  LOS03        Dodger Stadium  Los Angeles  ...       4   \n",
      "120            7  HOU03      Minute Maid Park      Houston  ...       4   \n",
      "121            8  HOU03      Minute Maid Park      Houston  ...       1   \n",
      "122           11  HOU03      Minute Maid Park      Houston  ...       5   \n",
      "123            7  HOU03      Minute Maid Park      Houston  ...      10   \n",
      "124           13  HOU03      Minute Maid Park      Houston  ...       7   \n",
      "125           12  HOU03      Minute Maid Park      Houston  ...       3   \n",
      "\n",
      "      home_2b  home_3b  home_hr  home_fo  home_so  home_bb  home_hbp  \\\n",
      "0           0        0        1       21        5        3         1   \n",
      "1           2        0        0       24        2        3         0   \n",
      "2           4        1        2       15        9        4         0   \n",
      "114         0        0        1       20        5        2         0   \n",
      "115         1        2        2       19        5        3         0   \n",
      "116         1        0        0       18        7        6         1   \n",
      "117         1        0        4       18        7        3         1   \n",
      "118         1        1        2       19        7        2         1   \n",
      "119         3        0        3       13       10        5         0   \n",
      "1999        3        1        0       20        5        1         0   \n",
      "2000        2        0        2       17        6        4         0   \n",
      "2001        1        0        2       15        8        2         2   \n",
      "2055        2        0        3       11       13        2         1   \n",
      "2056        1        0        2       19        8        4         0   \n",
      "120         1        0        1       17        9        7         0   \n",
      "121         3        0        2       16       14        7         2   \n",
      "122         2        0        3       18        8        3         2   \n",
      "123         5        0        1       16        5        3         1   \n",
      "124         0        1        3       23        2       10         0   \n",
      "125         1        0        1       22        7        0         1   \n",
      "\n",
      "      latitude  longitude  \n",
      "0      40.4406   -79.9959  \n",
      "1      40.4406   -79.9959  \n",
      "2      40.4406   -79.9959  \n",
      "114    29.7604   -95.3698  \n",
      "115    29.7604   -95.3698  \n",
      "116    29.7604   -95.3698  \n",
      "117    29.7604   -95.3698  \n",
      "118    29.7604   -95.3698  \n",
      "119    29.7604   -95.3698  \n",
      "1999   32.7157  -117.1611  \n",
      "2000   32.7157  -117.1611  \n",
      "2001   32.7157  -117.1611  \n",
      "2055   34.0522  -118.2437  \n",
      "2056   34.0522  -118.2437  \n",
      "120    29.7604   -95.3698  \n",
      "121    29.7604   -95.3698  \n",
      "122    29.7604   -95.3698  \n",
      "123    29.7604   -95.3698  \n",
      "124    29.7604   -95.3698  \n",
      "125    29.7604   -95.3698  \n",
      "\n",
      "[20 rows x 31 columns]\n"
     ]
    }
   ],
   "source": [
    "import pandas as pd\n",
    "\n",
    "# Assuming both venue_name columns are of the same data type\n",
    "\n",
    "\n",
    "# Merge the two DataFrames based on 'venue_name'\n",
    "merged_df = pd.merge(astro_df, location_df, on='city', how='inner')\n",
    "\n",
    "# 'inner' will keep only the rows where venue_name exists in both tables\n",
    "\n",
    "# Display the merged DataFrame\n",
    "\n",
    "# Sort merged_df by game_date\n",
    "merged_df = merged_df.sort_values(by='game_date')\n",
    "print(merged_df.head(20))\n",
    "\n"
   ]
  },
  {
   "cell_type": "markdown",
   "metadata": {},
   "source": [
    "Calculate distance from last game."
   ]
  },
  {
   "cell_type": "code",
   "execution_count": 7,
   "metadata": {},
   "outputs": [
    {
     "name": "stderr",
     "output_type": "stream",
     "text": [
      "/var/folders/4h/m7zq6dq13nvdg2z667851n9h0000gn/T/ipykernel_26215/3300626854.py:6: SettingWithCopyWarning: \n",
      "A value is trying to be set on a copy of a slice from a DataFrame\n",
      "\n",
      "See the caveats in the documentation: https://pandas.pydata.org/pandas-docs/stable/user_guide/indexing.html#returning-a-view-versus-a-copy\n",
      "  merged_df['distance'].iloc[i] = haversine(merged_df['latitude'].iloc[i-1], merged_df['longitude'].iloc[i-1], merged_df['latitude'].iloc[i], merged_df['longitude'].iloc[i])\n"
     ]
    }
   ],
   "source": [
    "# Add a column distance to the merged_df. Calculate the distance between the city in this row and the city in last row.\n",
    "# If the city in this row is the first city, then the distance is 0.\n",
    "# Use the function haversine() to calculate the distance.\n",
    "merged_df['distance'] = 0\n",
    "for i in range(1, len(merged_df)):\n",
    "    merged_df['distance'].iloc[i] = haversine(merged_df['latitude'].iloc[i-1], merged_df['longitude'].iloc[i-1], merged_df['latitude'].iloc[i], merged_df['longitude'].iloc[i])\n",
    "\n"
   ]
  },
  {
   "cell_type": "code",
   "execution_count": 8,
   "metadata": {},
   "outputs": [],
   "source": [
    "# change game_date to datetime\n",
    "merged_df['game_date'] = pd.to_datetime(merged_df['game_date'], format='%Y%m%d')"
   ]
  },
  {
   "cell_type": "code",
   "execution_count": 9,
   "metadata": {},
   "outputs": [
    {
     "name": "stderr",
     "output_type": "stream",
     "text": [
      "/var/folders/4h/m7zq6dq13nvdg2z667851n9h0000gn/T/ipykernel_26215/2674775903.py:11: SettingWithCopyWarning: \n",
      "A value is trying to be set on a copy of a slice from a DataFrame\n",
      "\n",
      "See the caveats in the documentation: https://pandas.pydata.org/pandas-docs/stable/user_guide/indexing.html#returning-a-view-versus-a-copy\n",
      "  merged_df['BABIP'].iloc[i] = (merged_df['away_1b'].iloc[i] + merged_df['away_2b'].iloc[i] + merged_df['away_3b'].iloc[i] - merged_df['away_hr'].iloc[i]) / (merged_df['away_pa'].iloc[i] - merged_df['away_bb'].iloc[i] - merged_df['away_hbp'].iloc[i] - merged_df['away_hr'].iloc[i] - merged_df['away_so'].iloc[i])\n"
     ]
    },
    {
     "name": "stdout",
     "output_type": "stream",
     "text": [
      "      game_date     BABIP\n",
      "0    2000-04-04  0.125000\n",
      "1    2000-04-05  0.347826\n",
      "2    2000-04-06  0.100000\n",
      "114  2000-04-07  0.125000\n",
      "115  2000-04-08  0.250000\n",
      "...         ...       ...\n",
      "3536 2023-09-26  0.333333\n",
      "3537 2023-09-27  0.258065\n",
      "2570 2023-09-29  0.347826\n",
      "2571 2023-09-30  0.260870\n",
      "2572 2023-10-01  0.192308\n",
      "\n",
      "[3784 rows x 2 columns]\n"
     ]
    }
   ],
   "source": [
    "# Add a column BABIP to the merged_df. Calculate the BABIP for each row.\n",
    "# BABIP = (home_1b + home_2b + home_3b - home_hr) / (home_pa - home_bb  - home_hbp - home_hr - home_so)\n",
    "# Iterate through rows, if HOU is home_team, extract all home_ data, if HOU is away_team, extract all away_ data\n",
    "\n",
    "merged_df['BABIP'] = 0\n",
    "\n",
    "for i in range(0, len(merged_df)):\n",
    "    if merged_df['home_team'].iloc[i] == 'HOU':\n",
    "        merged_df['BABIP'].iloc[i] = (merged_df['home_1b'].iloc[i] + merged_df['home_2b'].iloc[i] + merged_df['home_3b'].iloc[i] - merged_df['home_hr'].iloc[i]) / (merged_df['home_pa'].iloc[i] - merged_df['home_bb'].iloc[i] - merged_df['home_hbp'].iloc[i] - merged_df['home_hr'].iloc[i] - merged_df['home_so'].iloc[i])\n",
    "    else:\n",
    "        merged_df['BABIP'].iloc[i] = (merged_df['away_1b'].iloc[i] + merged_df['away_2b'].iloc[i] + merged_df['away_3b'].iloc[i] - merged_df['away_hr'].iloc[i]) / (merged_df['away_pa'].iloc[i] - merged_df['away_bb'].iloc[i] - merged_df['away_hbp'].iloc[i] - merged_df['away_hr'].iloc[i] - merged_df['away_so'].iloc[i])\n",
    "\n",
    "print(merged_df[['game_date', 'BABIP']])"
   ]
  },
  {
   "cell_type": "code",
   "execution_count": 10,
   "metadata": {},
   "outputs": [
    {
     "name": "stdout",
     "output_type": "stream",
     "text": [
      "         distance     BABIP  BABIP_average\n",
      "0        0.000000  0.125000       0.190942\n",
      "1        0.000000  0.347826       0.190942\n",
      "2        0.000000  0.100000       0.190942\n",
      "114   1829.889838  0.125000       0.143778\n",
      "115      0.000000  0.250000       0.143778\n",
      "116      0.000000  0.217391       0.143778\n",
      "117      0.000000 -0.047619       0.143778\n",
      "118      0.000000  0.160000       0.143778\n",
      "119      0.000000  0.157895       0.143778\n",
      "1999  2093.853720  0.166667       0.224786\n",
      "2000     0.000000  0.200000       0.224786\n",
      "2001     0.000000  0.307692       0.224786\n",
      "2055   179.410425  0.150000       0.259211\n",
      "2056     0.000000  0.368421       0.259211\n",
      "120   2206.264028  0.181818       0.195018\n",
      "121      0.000000  0.100000       0.195018\n",
      "122      0.000000  0.160000       0.195018\n",
      "123      0.000000  0.451613       0.195018\n",
      "124      0.000000  0.161290       0.195018\n",
      "125      0.000000  0.115385       0.195018\n"
     ]
    }
   ],
   "source": [
    "# Caculate the average BABIP of each specific time period.\n",
    "\n",
    "import pandas as pd\n",
    "\n",
    "def calculate_average_BABIP(df):\n",
    "    # Create a helper column to identify blocks\n",
    "    df['block'] = (df['distance'] != 0).cumsum()\n",
    "\n",
    "    # Calculating average score for each block\n",
    "    avg_scores = df.groupby('block')['BABIP'].mean()\n",
    "\n",
    "    # Mapping the average scores back to the original dataframe\n",
    "    df['BABIP_average'] = df['block'].map(avg_scores)\n",
    "\n",
    "    # Optionally, remove the helper column if it's no longer needed\n",
    "    df.drop('block', axis=1, inplace=True)\n",
    "\n",
    "    return df\n",
    "\n",
    "\n",
    "# Apply the function to your dataframe\n",
    "merged_df = calculate_average_BABIP(merged_df)\n",
    "\n",
    "# Display the first few rows of the updated dataframe\n",
    "print(merged_df[['distance', 'BABIP', 'BABIP_average']].head(20))\n",
    "\n",
    "# Optionally, save the modified dataframe back to a CSV\n",
    "# df.to_csv('modified_file.csv', index=False)\n"
   ]
  },
  {
   "cell_type": "code",
   "execution_count": 12,
   "metadata": {},
   "outputs": [
    {
     "name": "stdout",
     "output_type": "stream",
     "text": [
      "         distance  BABIP_average\n",
      "114   1829.889838       0.143778\n",
      "1999  2093.853720       0.224786\n",
      "2055   179.410425       0.259211\n",
      "120   2206.264028       0.195018\n",
      "2112  1618.872293       0.198278\n",
      "2230   131.055603       0.205000\n",
      "2057  2803.971507       0.215873\n",
      "126   2206.264028       0.196517\n",
      "2116  1618.872293       0.227273\n",
      "2379  1172.349177       0.190760\n",
      "2117  1172.349177       0.234856\n",
      "133   1618.872293       0.178715\n",
      "2397  1413.644844       0.343701\n",
      "139   1413.644844       0.243118\n",
      "2060  2206.264028       0.100000\n",
      "2002   179.410425       0.251804\n",
      "2400  1340.249516       0.222203\n",
      "2455  1524.503301       0.242853\n",
      "145   2643.045853       0.284293\n",
      "2506  1632.166882       0.295944\n",
      "2573  2043.754052       0.186250\n",
      "151   1094.099848       0.206599\n",
      "2681  1779.654964       0.280920\n",
      "2720   145.133104       0.233889\n",
      "157   1793.140904       0.224670\n",
      "2759  1436.875034       0.285538\n",
      "2861   595.451920       0.301641\n",
      "2908   975.883024       0.172540\n",
      "162   1556.794499       0.282896\n",
      "2957  2156.270867       0.278855\n",
      "169   2156.270867       0.166884\n",
      "2382  2582.330426       0.282390\n",
      "3003   533.688483       0.240588\n",
      "178   2281.344820       0.285824\n",
      "2233  1515.805107       0.288767\n",
      "185   1515.805107       0.271031\n",
      "2576  1094.099848       0.301460\n",
      "2762   495.165236       0.245965\n",
      "3      413.563833       0.266865\n",
      "192   1829.889838       0.240767\n",
      "2119  1618.872293       0.199949\n",
      "2579   527.087186       0.183631\n",
      "6      897.413345       0.177931\n",
      "201   1829.889838       0.257406\n",
      "3006  2281.344820       0.136857\n",
      "2385   533.688483       0.232168\n",
      "210   2582.330426       0.144533\n",
      "2766  1436.875034       0.222821\n",
      "2236   405.804738       0.304689\n",
      "213   1515.805107       0.246703\n"
     ]
    }
   ],
   "source": [
    "# Delete all rows with distance equals zero\n",
    "merged_df = merged_df[merged_df['distance'] != 0]\n",
    "print(merged_df[[\"distance\",'BABIP_average']].head(50))\n",
    "\n"
   ]
  },
  {
   "cell_type": "code",
   "execution_count": 25,
   "metadata": {},
   "outputs": [
    {
     "name": "stderr",
     "output_type": "stream",
     "text": [
      "/var/folders/4h/m7zq6dq13nvdg2z667851n9h0000gn/T/ipykernel_25481/569813256.py:5: SettingWithCopyWarning: \n",
      "A value is trying to be set on a copy of a slice from a DataFrame.\n",
      "Try using .loc[row_indexer,col_indexer] = value instead\n",
      "\n",
      "See the caveats in the documentation: https://pandas.pydata.org/pandas-docs/stable/user_guide/indexing.html#returning-a-view-versus-a-copy\n",
      "  merged_df['HOU_score'] = 0\n"
     ]
    }
   ],
   "source": [
    "# calculating the average point value of each specific time period (cities)\n",
    "\n",
    "# Iterate through rows, if HOU is home_team, extract home_consecutive_playing_days, if HOU is away_team, extract away_consecutive_playing_days\n",
    "# Add all consecutive_playing_days to a column hou_consecutive_playing_days\n",
    "merged_df['HOU_score'] = 0\n",
    "for index, row in merged_df.iterrows():\n",
    "    if row['home_team'] == 'HOU':\n",
    "        merged_df.loc[index, 'HOU_score'] = row['home_score']\n",
    "    else:\n",
    "        merged_df.loc[index, 'HOU_score'] = row['away_score']\n",
    "\n"
   ]
  },
  {
   "cell_type": "code",
   "execution_count": 49,
   "metadata": {},
   "outputs": [
    {
     "name": "stdout",
     "output_type": "stream",
     "text": [
      "         distance  HOU_score\n",
      "114   1829.889838          1\n",
      "1999  2093.853720         10\n",
      "2055   179.410425          3\n",
      "120   2206.264028          2\n",
      "2112  1618.872293          7\n",
      "2230   131.055603          1\n",
      "2057  2803.971507          2\n",
      "126   2206.264028          1\n",
      "2116  1618.872293          5\n",
      "2379  1172.349177          2\n",
      "2117  1172.349177          9\n",
      "133   1618.872293         10\n",
      "2397  1413.644844          7\n",
      "139   1413.644844          4\n",
      "2060  2206.264028          2\n",
      "2002   179.410425          7\n",
      "2400  1340.249516          6\n",
      "2455  1524.503301          4\n",
      "145   2643.045853          6\n",
      "2506  1632.166882          1\n",
      "2573  2043.754052          4\n",
      "151   1094.099848          4\n",
      "2681  1779.654964          2\n",
      "2720   145.133104          5\n",
      "157   1793.140904          0\n",
      "2759  1436.875034          7\n",
      "2861   595.451920          2\n",
      "2908   975.883024          4\n",
      "162   1556.794499          7\n",
      "2957  2156.270867          7\n",
      "169   2156.270867         16\n",
      "2382  2582.330426          3\n",
      "3003   533.688483          2\n",
      "178   2281.344820          3\n",
      "2233  1515.805107         13\n",
      "185   1515.805107          7\n",
      "2576  1094.099848          8\n",
      "2762   495.165236          5\n",
      "3      413.563833          4\n",
      "192   1829.889838          3\n",
      "2119  1618.872293          3\n",
      "2579   527.087186          4\n",
      "6      897.413345          0\n",
      "201   1829.889838         10\n",
      "3006  2281.344820          2\n",
      "2385   533.688483          8\n",
      "210   2582.330426          0\n",
      "2766  1436.875034          4\n",
      "2236   405.804738          9\n",
      "213   1515.805107          4\n"
     ]
    }
   ],
   "source": [
    "# Delete all rows with distance equals zero\n",
    "merged_df = merged_df[merged_df['distance'] != 0]\n",
    "print(merged_df[[\"distance\",'HOU_score']].head(50))\n",
    "\n"
   ]
  },
  {
   "cell_type": "code",
   "execution_count": 13,
   "metadata": {},
   "outputs": [
    {
     "ename": "KeyError",
     "evalue": "'Column not found: HOU_score'",
     "output_type": "error",
     "traceback": [
      "\u001b[0;31m---------------------------------------------------------------------------\u001b[0m",
      "\u001b[0;31mKeyError\u001b[0m                                  Traceback (most recent call last)",
      "Input \u001b[0;32mIn [13]\u001b[0m, in \u001b[0;36m<cell line: 22>\u001b[0;34m()\u001b[0m\n\u001b[1;32m     18\u001b[0m     \u001b[38;5;28;01mreturn\u001b[39;00m df\n\u001b[1;32m     21\u001b[0m \u001b[38;5;66;03m# Apply the function to your dataframe\u001b[39;00m\n\u001b[0;32m---> 22\u001b[0m merged_df \u001b[38;5;241m=\u001b[39m \u001b[43mcalculate_hou_avg_point\u001b[49m\u001b[43m(\u001b[49m\u001b[43mmerged_df\u001b[49m\u001b[43m)\u001b[49m\n\u001b[1;32m     24\u001b[0m \u001b[38;5;66;03m# Display the first few rows of the updated dataframe\u001b[39;00m\n\u001b[1;32m     25\u001b[0m \u001b[38;5;28mprint\u001b[39m(merged_df[[\u001b[38;5;124m'\u001b[39m\u001b[38;5;124mdistance\u001b[39m\u001b[38;5;124m'\u001b[39m, \u001b[38;5;124m'\u001b[39m\u001b[38;5;124mHOU_score\u001b[39m\u001b[38;5;124m'\u001b[39m, \u001b[38;5;124m'\u001b[39m\u001b[38;5;124mHOU_AvgPoint\u001b[39m\u001b[38;5;124m'\u001b[39m]]\u001b[38;5;241m.\u001b[39mhead(\u001b[38;5;241m20\u001b[39m))\n",
      "Input \u001b[0;32mIn [13]\u001b[0m, in \u001b[0;36mcalculate_hou_avg_point\u001b[0;34m(df)\u001b[0m\n\u001b[1;32m      7\u001b[0m df[\u001b[38;5;124m'\u001b[39m\u001b[38;5;124mblock\u001b[39m\u001b[38;5;124m'\u001b[39m] \u001b[38;5;241m=\u001b[39m (df[\u001b[38;5;124m'\u001b[39m\u001b[38;5;124mdistance\u001b[39m\u001b[38;5;124m'\u001b[39m] \u001b[38;5;241m!=\u001b[39m \u001b[38;5;241m0\u001b[39m)\u001b[38;5;241m.\u001b[39mcumsum()\n\u001b[1;32m      9\u001b[0m \u001b[38;5;66;03m# Calculating average score for each block\u001b[39;00m\n\u001b[0;32m---> 10\u001b[0m avg_scores \u001b[38;5;241m=\u001b[39m \u001b[43mdf\u001b[49m\u001b[38;5;241;43m.\u001b[39;49m\u001b[43mgroupby\u001b[49m\u001b[43m(\u001b[49m\u001b[38;5;124;43m'\u001b[39;49m\u001b[38;5;124;43mblock\u001b[39;49m\u001b[38;5;124;43m'\u001b[39;49m\u001b[43m)\u001b[49m\u001b[43m[\u001b[49m\u001b[38;5;124;43m'\u001b[39;49m\u001b[38;5;124;43mHOU_score\u001b[39;49m\u001b[38;5;124;43m'\u001b[39;49m\u001b[43m]\u001b[49m\u001b[38;5;241m.\u001b[39mmean()\n\u001b[1;32m     12\u001b[0m \u001b[38;5;66;03m# Mapping the average scores back to the original dataframe\u001b[39;00m\n\u001b[1;32m     13\u001b[0m df[\u001b[38;5;124m'\u001b[39m\u001b[38;5;124mHOU_AvgPoint\u001b[39m\u001b[38;5;124m'\u001b[39m] \u001b[38;5;241m=\u001b[39m df[\u001b[38;5;124m'\u001b[39m\u001b[38;5;124mblock\u001b[39m\u001b[38;5;124m'\u001b[39m]\u001b[38;5;241m.\u001b[39mmap(avg_scores)\n",
      "File \u001b[0;32m~/opt/anaconda3/lib/python3.9/site-packages/pandas/core/groupby/generic.py:1338\u001b[0m, in \u001b[0;36mDataFrameGroupBy.__getitem__\u001b[0;34m(self, key)\u001b[0m\n\u001b[1;32m   1329\u001b[0m \u001b[38;5;28;01mif\u001b[39;00m \u001b[38;5;28misinstance\u001b[39m(key, \u001b[38;5;28mtuple\u001b[39m) \u001b[38;5;129;01mand\u001b[39;00m \u001b[38;5;28mlen\u001b[39m(key) \u001b[38;5;241m>\u001b[39m \u001b[38;5;241m1\u001b[39m:\n\u001b[1;32m   1330\u001b[0m     \u001b[38;5;66;03m# if len == 1, then it becomes a SeriesGroupBy and this is actually\u001b[39;00m\n\u001b[1;32m   1331\u001b[0m     \u001b[38;5;66;03m# valid syntax, so don't raise warning\u001b[39;00m\n\u001b[1;32m   1332\u001b[0m     warnings\u001b[38;5;241m.\u001b[39mwarn(\n\u001b[1;32m   1333\u001b[0m         \u001b[38;5;124m\"\u001b[39m\u001b[38;5;124mIndexing with multiple keys (implicitly converted to a tuple \u001b[39m\u001b[38;5;124m\"\u001b[39m\n\u001b[1;32m   1334\u001b[0m         \u001b[38;5;124m\"\u001b[39m\u001b[38;5;124mof keys) will be deprecated, use a list instead.\u001b[39m\u001b[38;5;124m\"\u001b[39m,\n\u001b[1;32m   1335\u001b[0m         \u001b[38;5;167;01mFutureWarning\u001b[39;00m,\n\u001b[1;32m   1336\u001b[0m         stacklevel\u001b[38;5;241m=\u001b[39mfind_stack_level(),\n\u001b[1;32m   1337\u001b[0m     )\n\u001b[0;32m-> 1338\u001b[0m \u001b[38;5;28;01mreturn\u001b[39;00m \u001b[38;5;28;43msuper\u001b[39;49m\u001b[43m(\u001b[49m\u001b[43m)\u001b[49m\u001b[38;5;241;43m.\u001b[39;49m\u001b[38;5;21;43m__getitem__\u001b[39;49m\u001b[43m(\u001b[49m\u001b[43mkey\u001b[49m\u001b[43m)\u001b[49m\n",
      "File \u001b[0;32m~/opt/anaconda3/lib/python3.9/site-packages/pandas/core/base.py:250\u001b[0m, in \u001b[0;36mSelectionMixin.__getitem__\u001b[0;34m(self, key)\u001b[0m\n\u001b[1;32m    248\u001b[0m \u001b[38;5;28;01melse\u001b[39;00m:\n\u001b[1;32m    249\u001b[0m     \u001b[38;5;28;01mif\u001b[39;00m key \u001b[38;5;129;01mnot\u001b[39;00m \u001b[38;5;129;01min\u001b[39;00m \u001b[38;5;28mself\u001b[39m\u001b[38;5;241m.\u001b[39mobj:\n\u001b[0;32m--> 250\u001b[0m         \u001b[38;5;28;01mraise\u001b[39;00m \u001b[38;5;167;01mKeyError\u001b[39;00m(\u001b[38;5;124mf\u001b[39m\u001b[38;5;124m\"\u001b[39m\u001b[38;5;124mColumn not found: \u001b[39m\u001b[38;5;132;01m{\u001b[39;00mkey\u001b[38;5;132;01m}\u001b[39;00m\u001b[38;5;124m\"\u001b[39m)\n\u001b[1;32m    251\u001b[0m     subset \u001b[38;5;241m=\u001b[39m \u001b[38;5;28mself\u001b[39m\u001b[38;5;241m.\u001b[39mobj[key]\n\u001b[1;32m    252\u001b[0m     ndim \u001b[38;5;241m=\u001b[39m subset\u001b[38;5;241m.\u001b[39mndim\n",
      "\u001b[0;31mKeyError\u001b[0m: 'Column not found: HOU_score'"
     ]
    }
   ],
   "source": [
    "# calculating the average point of the HOU_score just received\n",
    "\n",
    "import pandas as pd\n",
    "\n",
    "def calculate_hou_avg_point(df):\n",
    "    # Create a helper column to identify blocks\n",
    "    df['block'] = (df['distance'] != 0).cumsum()\n",
    "\n",
    "    # Calculating average score for each block\n",
    "    avg_scores = df.groupby('block')['HOU_score'].mean()\n",
    "\n",
    "    # Mapping the average scores back to the original dataframe\n",
    "    df['HOU_AvgPoint'] = df['block'].map(avg_scores)\n",
    "\n",
    "    # Optionally, remove the helper column if it's no longer needed\n",
    "    df.drop('block', axis=1, inplace=True)\n",
    "\n",
    "    return df\n",
    "\n",
    "\n",
    "# Apply the function to your dataframe\n",
    "merged_df = calculate_hou_avg_point(merged_df)\n",
    "\n",
    "# Display the first few rows of the updated dataframe\n",
    "print(merged_df[['distance', 'HOU_score', 'HOU_AvgPoint']].head(20))\n",
    "\n",
    "# Optionally, save the modified dataframe back to a CSV\n",
    "# df.to_csv('modified_file.csv', index=False)\n"
   ]
  },
  {
   "cell_type": "code",
   "execution_count": 14,
   "metadata": {},
   "outputs": [],
   "source": [
    "# output a csv file\n",
    "merged_df.to_csv('travel_analysis_astro.csv', index=False)"
   ]
  },
  {
   "cell_type": "code",
   "execution_count": 15,
   "metadata": {},
   "outputs": [
    {
     "data": {
      "text/plain": [
       "(0.05275942625411142, array([0.0006894]))"
      ]
     },
     "execution_count": 15,
     "metadata": {},
     "output_type": "execute_result"
    }
   ],
   "source": [
    "import pandas as pd\n",
    "from sklearn.model_selection import train_test_split\n",
    "from sklearn.linear_model import LinearRegression\n",
    "from sklearn.metrics import mean_squared_error\n",
    "from sklearn.preprocessing import StandardScaler\n",
    "\n",
    "# Load the data\n",
    "file_path = './travel_analysis_astro.csv'\n",
    "data = pd.read_csv(file_path)\n",
    "\n",
    "# Create a 'score_diff' column that reflects the margin of victory or defeat for the Houston Astros\n",
    "data['score_diff'] = data.apply(lambda row: row['home_score'] - row['away_score'] if row['home_team'] == 'HOU' else row['away_score'] - row['home_score'], axis=1)\n",
    "data['home_run'] = data.apply(lambda row: row['home_hr'] if row['home_team'] == 'HOU' else row['away_hr'], axis=1)\n",
    "data['home_1b'] = data.apply(lambda row: row['home_1b'] if row['home_team'] == 'HOU' else row['away_1b'], axis=1)\n",
    "data['home_2b'] = data.apply(lambda row: row['home_2b'] if row['home_team'] == 'HOU' else row['away_2b'], axis=1)\n",
    "data['home_3b'] = data.apply(lambda row: row['home_3b'] if row['home_team'] == 'HOU' else row['away_3b'], axis=1)\n",
    "\n",
    "# Fill missing values with zeros\n",
    "data = data.fillna(0)\n",
    "\n",
    "# Select features and the target variable\n",
    "features = ['distance']\n",
    "X = data[features]\n",
    "y = data['BABIP_average']\n",
    "\n",
    "\n",
    "# Normalize the features\n",
    "scaler = StandardScaler()\n",
    "X_scaled = scaler.fit_transform(X)\n",
    "\n",
    "# Split the data into training and testing sets\n",
    "X_train, X_test, y_train, y_test = train_test_split(X_scaled, y, test_size=0.2, random_state=42)\n",
    "\n",
    "# Train the model\n",
    "model = LinearRegression()\n",
    "model.fit(X_train, y_train)\n",
    "\n",
    "# Predict the test set\n",
    "y_pred = model.predict(X_test)\n",
    "\n",
    "# Evaluate the model\n",
    "mse = mean_squared_error(y_test, y_pred)\n",
    "rmse = mse ** 0.5\n",
    "\n",
    "# Model coefficients\n",
    "coefficients = model.coef_\n",
    "\n",
    "# Output the RMSE and coefficients\n",
    "rmse, coefficients\n"
   ]
  },
  {
   "cell_type": "code",
   "execution_count": 16,
   "metadata": {},
   "outputs": [
    {
     "data": {
      "image/png": "[encoded data removed]",
      "text/plain": [
       "<Figure size 720x432 with 1 Axes>"
      ]
     },
     "metadata": {
      "needs_background": "light"
     },
     "output_type": "display_data"
    }
   ],
   "source": [
    "import pandas as pd\n",
    "import matplotlib.pyplot as plt\n",
    "\n",
    "# Plotting scatter points of 'distance' vs. 'score_diff'\n",
    "plt.figure(figsize=(10, 6))\n",
    "plt.scatter(data['distance'], data['BABIP_average'], alpha=0.5)\n",
    "plt.title('Scatter plot of Distance vs Score Difference for Houston Astros')\n",
    "plt.xlabel('Travel Distance (miles)')\n",
    "plt.ylabel('Score Difference (runs)')\n",
    "plt.grid(True)\n",
    "plt.show()\n"
   ]
  },
  {
   "cell_type": "code",
   "execution_count": 17,
   "metadata": {},
   "outputs": [
    {
     "data": {
      "image/png": "[encoded data removed]",
      "text/plain": [
       "<Figure size 720x432 with 1 Axes>"
      ]
     },
     "metadata": {
      "needs_background": "light"
     },
     "output_type": "display_data"
    }
   ],
   "source": [
    "import pandas as pd\n",
    "import matplotlib.pyplot as plt\n",
    "\n",
    "# Plotting scatter points of 'distance' vs. 'home_run'\n",
    "plt.figure(figsize=(10, 6))\n",
    "plt.scatter(X['distance'], y, alpha=0.5, color='blue')\n",
    "plt.title('Scatter plot of Distance vs Home Runs for Houston Astros')\n",
    "plt.xlabel('Travel Distance (miles)')\n",
    "plt.ylabel('Home Runs')\n",
    "plt.grid(True)\n",
    "plt.show()"
   ]
  },
  {
   "cell_type": "code",
   "execution_count": null,
   "metadata": {},
   "outputs": [],
   "source": []
  }
 ],
 "metadata": {
  "kernelspec": {
   "display_name": "Python 3",
   "language": "python",
   "name": "python3"
  },
  "language_info": {
   "codemirror_mode": {
    "name": "ipython",
    "version": 3
   },
   "file_extension": ".py",
   "mimetype": "text/x-python",
   "name": "python",
   "nbconvert_exporter": "python",
   "pygments_lexer": "ipython3",
   "version": "3.9.12"
  }
 },
 "nbformat": 4,
 "nbformat_minor": 2
}
